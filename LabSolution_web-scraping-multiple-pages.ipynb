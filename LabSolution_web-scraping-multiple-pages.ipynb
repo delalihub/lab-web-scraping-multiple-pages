{
 "cells": [
  {
   "cell_type": "code",
   "execution_count": 1,
   "id": "8c010c36",
   "metadata": {},
   "outputs": [],
   "source": [
    "from bs4 import BeautifulSoup\n",
    "import requests\n",
    "import pandas as pd"
   ]
  },
  {
   "cell_type": "markdown",
   "id": "d8552ee1",
   "metadata": {},
   "source": [
    "##  Create a Python list with the top ten FBI's Most Wanted names: url = 'https://www.fbi.gov/wanted/topten'"
   ]
  },
  {
   "cell_type": "code",
   "execution_count": 2,
   "id": "b793a13d",
   "metadata": {},
   "outputs": [],
   "source": [
    "# 2. find url and store it in a variable\n",
    "url = \"https://www.fbi.gov/wanted/topten\""
   ]
  },
  {
   "cell_type": "code",
   "execution_count": 3,
   "id": "561a8efb",
   "metadata": {},
   "outputs": [
    {
     "data": {
      "text/plain": [
       "200"
      ]
     },
     "execution_count": 3,
     "metadata": {},
     "output_type": "execute_result"
    }
   ],
   "source": [
    "# 3. download html with a get request\n",
    "response = requests.get(url)\n",
    "response.status_code # 200 status code means OK!\n"
   ]
  },
  {
   "cell_type": "code",
   "execution_count": 4,
   "id": "20aa0808",
   "metadata": {},
   "outputs": [],
   "source": [
    "# 4.1. parse html (create the 'soup')\n",
    "soup = BeautifulSoup(response.content, \"html.parser\")"
   ]
  },
  {
   "cell_type": "code",
   "execution_count": 5,
   "id": "8903af9f",
   "metadata": {},
   "outputs": [],
   "source": [
    "#soup"
   ]
  },
  {
   "cell_type": "code",
   "execution_count": 6,
   "id": "88535b42",
   "metadata": {},
   "outputs": [],
   "source": [
    "#query-results-0f737222c5054a81a120bce207b0446a > ul > li:nth-child(1) > h3 > a"
   ]
  },
  {
   "cell_type": "code",
   "execution_count": 7,
   "id": "62b09455",
   "metadata": {},
   "outputs": [
    {
     "data": {
      "text/plain": [
       "[<a href=\"https://www.fbi.gov/wanted/topten/omar-alexander-cardenas\">OMAR ALEXANDER CARDENAS</a>]"
      ]
     },
     "execution_count": 7,
     "metadata": {},
     "output_type": "execute_result"
    }
   ],
   "source": [
    "# 5. retrieve/extract the desired info (here, you'll paste the \"Selector\" you copied before to get the element that belongs to the top movie)\n",
    "soup.select(\"#query-results-0f737222c5054a81a120bce207b0446a > ul > li:nth-child(1) > h3 > a\")"
   ]
  },
  {
   "cell_type": "code",
   "execution_count": 8,
   "id": "e1cbc96b",
   "metadata": {},
   "outputs": [
    {
     "data": {
      "text/plain": [
       "[<a href=\"https://www.fbi.gov/wanted/topten/omar-alexander-cardenas\">OMAR ALEXANDER CARDENAS</a>,\n",
       " <a href=\"https://www.fbi.gov/wanted/topten/alexis-flores\">ALEXIS FLORES</a>,\n",
       " <a href=\"https://www.fbi.gov/wanted/topten/bhadreshkumar-chetanbhai-patel\">BHADRESHKUMAR CHETANBHAI PATEL</a>,\n",
       " <a href=\"https://www.fbi.gov/wanted/topten/alejandro-castillo\">ALEJANDRO ROSALES CASTILLO</a>,\n",
       " <a href=\"https://www.fbi.gov/wanted/topten/yulan-adonay-archaga-carias\">YULAN ADONAY ARCHAGA CARIAS</a>,\n",
       " <a href=\"https://www.fbi.gov/wanted/topten/ruja-ignatova\">RUJA IGNATOVA</a>,\n",
       " <a href=\"https://www.fbi.gov/wanted/topten/arnoldo-jimenez\">ARNOLDO JIMENEZ</a>,\n",
       " <a href=\"https://www.fbi.gov/wanted/topten/michael-james-pratt\">MICHAEL JAMES PRATT</a>,\n",
       " <a href=\"https://www.fbi.gov/wanted/topten/jose-rodolfo-villarreal-hernandez\">JOSE RODOLFO VILLARREAL-HERNANDEZ</a>,\n",
       " <a href=\"https://www.fbi.gov/wanted/topten/rafael-caro-quintero\">RAFAEL CARO-QUINTERO</a>]"
      ]
     },
     "execution_count": 8,
     "metadata": {},
     "output_type": "execute_result"
    }
   ],
   "source": [
    "# To get all artist\n",
    "soup.select(\"h3 > a\")"
   ]
  },
  {
   "cell_type": "code",
   "execution_count": 9,
   "id": "73524175",
   "metadata": {},
   "outputs": [
    {
     "data": {
      "text/plain": [
       "'OMAR ALEXANDER CARDENAS'"
      ]
     },
     "execution_count": 9,
     "metadata": {},
     "output_type": "execute_result"
    }
   ],
   "source": [
    "soup.select(\"h3 > a\")[0].get_text()"
   ]
  },
  {
   "cell_type": "code",
   "execution_count": null,
   "id": "b7015d87",
   "metadata": {},
   "outputs": [],
   "source": []
  },
  {
   "cell_type": "code",
   "execution_count": 10,
   "id": "2505eb45",
   "metadata": {},
   "outputs": [
    {
     "name": "stdout",
     "output_type": "stream",
     "text": [
      "['OMAR ALEXANDER CARDENAS', 'ALEXIS FLORES', 'BHADRESHKUMAR CHETANBHAI PATEL', 'ALEJANDRO ROSALES CASTILLO', 'YULAN ADONAY ARCHAGA CARIAS', 'RUJA IGNATOVA', 'ARNOLDO JIMENEZ', 'MICHAEL JAMES PRATT', 'JOSE RODOLFO VILLARREAL-HERNANDEZ', 'RAFAEL CARO-QUINTERO']\n"
     ]
    }
   ],
   "source": [
    "names = []\n",
    "num_iter = len(soup.select(\"h3 a\"))\n",
    "namelist = soup.select(\"h3 a\")\n",
    "\n",
    "# iterate through the result set and retrieve names\n",
    "for i in range(num_iter):\n",
    "    names.append(namelist[i].get_text())\n",
    "\n",
    "print(names)"
   ]
  },
  {
   "cell_type": "code",
   "execution_count": 32,
   "id": "9fa85a41",
   "metadata": {},
   "outputs": [
    {
     "data": {
      "text/html": [
       "<div>\n",
       "<style scoped>\n",
       "    .dataframe tbody tr th:only-of-type {\n",
       "        vertical-align: middle;\n",
       "    }\n",
       "\n",
       "    .dataframe tbody tr th {\n",
       "        vertical-align: top;\n",
       "    }\n",
       "\n",
       "    .dataframe thead th {\n",
       "        text-align: right;\n",
       "    }\n",
       "</style>\n",
       "<table border=\"1\" class=\"dataframe\">\n",
       "  <thead>\n",
       "    <tr style=\"text-align: right;\">\n",
       "      <th></th>\n",
       "      <th>names</th>\n",
       "    </tr>\n",
       "  </thead>\n",
       "  <tbody>\n",
       "  </tbody>\n",
       "</table>\n",
       "</div>"
      ],
      "text/plain": [
       "Empty DataFrame\n",
       "Columns: [names]\n",
       "Index: []"
      ]
     },
     "execution_count": 32,
     "metadata": {},
     "output_type": "execute_result"
    }
   ],
   "source": [
    "fbi_most_wanted = pd.DataFrame({\"names\":names})\n",
    "fbi_most_wanted"
   ]
  },
  {
   "cell_type": "code",
   "execution_count": 11,
   "id": "0816ceef",
   "metadata": {},
   "outputs": [],
   "source": [
    "# End of FBI"
   ]
  },
  {
   "cell_type": "code",
   "execution_count": null,
   "id": "5424bf58",
   "metadata": {},
   "outputs": [],
   "source": []
  },
  {
   "cell_type": "markdown",
   "id": "bedd929d",
   "metadata": {},
   "source": [
    "### Display the top 10 languages by number of native speakers stored in a pandas dataframe: url = 'https://en.wikipedia.org/wiki/List_of_languages_by_number_of_native_speakers'"
   ]
  },
  {
   "cell_type": "code",
   "execution_count": 12,
   "id": "4b27ea49",
   "metadata": {},
   "outputs": [],
   "source": [
    "# https://en.wikipedia.org/wiki/List_of_languages_by_number_of_native_speakers"
   ]
  },
  {
   "cell_type": "code",
   "execution_count": 13,
   "id": "0cdd25ac",
   "metadata": {},
   "outputs": [],
   "source": [
    "# 2. find url and store it in a variable\n",
    "url = \"https://en.wikipedia.org/wiki/List_of_languages_by_number_of_native_speakers\""
   ]
  },
  {
   "cell_type": "code",
   "execution_count": 14,
   "id": "f04bf0ac",
   "metadata": {},
   "outputs": [
    {
     "data": {
      "text/plain": [
       "200"
      ]
     },
     "execution_count": 14,
     "metadata": {},
     "output_type": "execute_result"
    }
   ],
   "source": [
    "# 3. download html with a get request\n",
    "response = requests.get(url)\n",
    "response.status_code # 200 status code means OK!"
   ]
  },
  {
   "cell_type": "code",
   "execution_count": 15,
   "id": "5d0d862c",
   "metadata": {},
   "outputs": [],
   "source": [
    "# 4.1. parse html (create the 'soup')\n",
    "soup = BeautifulSoup(response.content, \"html.parser\")"
   ]
  },
  {
   "cell_type": "code",
   "execution_count": 16,
   "id": "e11b5723",
   "metadata": {},
   "outputs": [],
   "source": [
    "##mw-content-text > div.mw-parser-output > table.wikitable.sortable.static-row-numbers.jquery-tablesorter > tbody > tr:nth-child(1) > td:nth-child(1)"
   ]
  },
  {
   "cell_type": "code",
   "execution_count": 17,
   "id": "3544a6ea",
   "metadata": {},
   "outputs": [
    {
     "data": {
      "text/plain": [
       "[]"
      ]
     },
     "execution_count": 17,
     "metadata": {},
     "output_type": "execute_result"
    }
   ],
   "source": [
    "# 5. retrieve/extract the desired info (here, you'll paste the \"Selector\" you copied before to get the element that belongs to the top movie)\n",
    "soup.select(\"#mw-content-text > div.mw-parser-output > table.wikitable.sortable.static-row-numbers.jquery-tablesorter > tbody > tr:nth-child(1) > td:nth-child(1)\")"
   ]
  },
  {
   "cell_type": "code",
   "execution_count": 18,
   "id": "35f39afd",
   "metadata": {},
   "outputs": [
    {
     "data": {
      "text/plain": [
       "[<tr>\n",
       " <td><a class=\"mw-redirect\" href=\"/wiki/ISO_639:cmn\" title=\"ISO 639:cmn\">Mandarin Chinese</a><br/>(incl. <a href=\"/wiki/Standard_Chinese\" title=\"Standard Chinese\">Standard Chinese</a>, but excl. <a href=\"/wiki/Varieties_of_Chinese\" title=\"Varieties of Chinese\">other varieties</a>)\n",
       " </td>\n",
       " <td>939\n",
       " </td>\n",
       " <td><a href=\"/wiki/Sino-Tibetan_languages\" title=\"Sino-Tibetan languages\">Sino-Tibetan</a>\n",
       " </td>\n",
       " <td><a href=\"/wiki/Varieties_of_Chinese\" title=\"Varieties of Chinese\">Sinitic</a>\n",
       " </td></tr>,\n",
       " <tr>\n",
       " <td><a class=\"mw-redirect\" href=\"/wiki/ISO_639:spa\" title=\"ISO 639:spa\">Spanish</a>\n",
       " </td>\n",
       " <td>485\n",
       " </td>\n",
       " <td><a href=\"/wiki/Indo-European_languages\" title=\"Indo-European languages\">Indo-European</a>\n",
       " </td>\n",
       " <td><a href=\"/wiki/Romance_languages\" title=\"Romance languages\">Romance</a>\n",
       " </td></tr>,\n",
       " <tr>\n",
       " <td><a class=\"mw-redirect\" href=\"/wiki/ISO_639:eng\" title=\"ISO 639:eng\">English</a>\n",
       " </td>\n",
       " <td>380\n",
       " </td>\n",
       " <td><a href=\"/wiki/Indo-European_languages\" title=\"Indo-European languages\">Indo-European</a>\n",
       " </td>\n",
       " <td><a href=\"/wiki/Germanic_languages\" title=\"Germanic languages\">Germanic</a>\n",
       " </td></tr>,\n",
       " <tr>\n",
       " <td><a class=\"mw-redirect\" href=\"/wiki/ISO_639:hin\" title=\"ISO 639:hin\">Hindi</a><br/>(excl. <a href=\"/wiki/Urdu\" title=\"Urdu\">Urdu</a>, and <a href=\"/wiki/Hindi_Belt\" title=\"Hindi Belt\">other languages</a>)\n",
       " </td>\n",
       " <td>345\n",
       " </td>\n",
       " <td><a href=\"/wiki/Indo-European_languages\" title=\"Indo-European languages\">Indo-European</a>\n",
       " </td>\n",
       " <td><a href=\"/wiki/Indo-Aryan_languages\" title=\"Indo-Aryan languages\">Indo-Aryan</a>\n",
       " </td></tr>,\n",
       " <tr>\n",
       " <td><a class=\"mw-redirect\" href=\"/wiki/ISO_639:por\" title=\"ISO 639:por\">Portuguese</a>\n",
       " </td>\n",
       " <td>236\n",
       " </td>\n",
       " <td><a href=\"/wiki/Indo-European_languages\" title=\"Indo-European languages\">Indo-European</a>\n",
       " </td>\n",
       " <td><a href=\"/wiki/Romance_languages\" title=\"Romance languages\">Romance</a>\n",
       " </td></tr>,\n",
       " <tr>\n",
       " <td><a class=\"mw-redirect\" href=\"/wiki/ISO_639:ben\" title=\"ISO 639:ben\">Bengali</a>\n",
       " </td>\n",
       " <td>234\n",
       " </td>\n",
       " <td><a href=\"/wiki/Indo-European_languages\" title=\"Indo-European languages\">Indo-European</a>\n",
       " </td>\n",
       " <td><a href=\"/wiki/Indo-Aryan_languages\" title=\"Indo-Aryan languages\">Indo-Aryan</a>\n",
       " </td></tr>,\n",
       " <tr>\n",
       " <td><a class=\"mw-redirect\" href=\"/wiki/ISO_639:rus\" title=\"ISO 639:rus\">Russian</a>\n",
       " </td>\n",
       " <td>147\n",
       " </td>\n",
       " <td><a href=\"/wiki/Indo-European_languages\" title=\"Indo-European languages\">Indo-European</a>\n",
       " </td>\n",
       " <td><a href=\"/wiki/Balto-Slavic_languages\" title=\"Balto-Slavic languages\">Balto-Slavic</a>\n",
       " </td></tr>,\n",
       " <tr>\n",
       " <td><a class=\"mw-redirect\" href=\"/wiki/ISO_639:jpn\" title=\"ISO 639:jpn\">Japanese</a>\n",
       " </td>\n",
       " <td>123\n",
       " </td>\n",
       " <td><a href=\"/wiki/Japonic_languages\" title=\"Japonic languages\">Japonic</a>\n",
       " </td>\n",
       " <td><a href=\"/wiki/Japanese_language\" title=\"Japanese language\">Japanese</a>\n",
       " </td></tr>,\n",
       " <tr>\n",
       " <td><a class=\"mw-redirect\" href=\"/wiki/ISO_639:yue\" title=\"ISO 639:yue\">Yue Chinese</a><br/>(incl. <a href=\"/wiki/Cantonese\" title=\"Cantonese\">Cantonese</a>)\n",
       " </td>\n",
       " <td>86.1\n",
       " </td>\n",
       " <td><a href=\"/wiki/Sino-Tibetan_languages\" title=\"Sino-Tibetan languages\">Sino-Tibetan</a>\n",
       " </td>\n",
       " <td><a href=\"/wiki/Varieties_of_Chinese\" title=\"Varieties of Chinese\">Sinitic</a>\n",
       " </td></tr>]"
      ]
     },
     "execution_count": 18,
     "metadata": {},
     "output_type": "execute_result"
    }
   ],
   "source": [
    "prestab = soup.select(\"table\")[0]\n",
    "prestab.select(\"tr\")[1:10]"
   ]
  },
  {
   "cell_type": "code",
   "execution_count": 19,
   "id": "f3cc81e4",
   "metadata": {},
   "outputs": [],
   "source": [
    "language = []\n",
    "speakers = []\n",
    "for lan in prestab.select(\"tr\")[1:11]:\n",
    "    language.append(lan(\"td\")[0].get_text())\n",
    "    speakers.append(lan(\"td\")[1].get_text())\n",
    "    \n",
    "    "
   ]
  },
  {
   "cell_type": "code",
   "execution_count": 20,
   "id": "55c9c50e",
   "metadata": {},
   "outputs": [
    {
     "data": {
      "text/html": [
       "<div>\n",
       "<style scoped>\n",
       "    .dataframe tbody tr th:only-of-type {\n",
       "        vertical-align: middle;\n",
       "    }\n",
       "\n",
       "    .dataframe tbody tr th {\n",
       "        vertical-align: top;\n",
       "    }\n",
       "\n",
       "    .dataframe thead th {\n",
       "        text-align: right;\n",
       "    }\n",
       "</style>\n",
       "<table border=\"1\" class=\"dataframe\">\n",
       "  <thead>\n",
       "    <tr style=\"text-align: right;\">\n",
       "      <th></th>\n",
       "      <th>language</th>\n",
       "      <th>native speakers</th>\n",
       "    </tr>\n",
       "  </thead>\n",
       "  <tbody>\n",
       "    <tr>\n",
       "      <th>0</th>\n",
       "      <td>Mandarin Chinese(incl. Standard Chinese, but e...</td>\n",
       "      <td>939\\n</td>\n",
       "    </tr>\n",
       "    <tr>\n",
       "      <th>1</th>\n",
       "      <td>Spanish\\n</td>\n",
       "      <td>485\\n</td>\n",
       "    </tr>\n",
       "    <tr>\n",
       "      <th>2</th>\n",
       "      <td>English\\n</td>\n",
       "      <td>380\\n</td>\n",
       "    </tr>\n",
       "    <tr>\n",
       "      <th>3</th>\n",
       "      <td>Hindi(excl. Urdu, and other languages)\\n</td>\n",
       "      <td>345\\n</td>\n",
       "    </tr>\n",
       "    <tr>\n",
       "      <th>4</th>\n",
       "      <td>Portuguese\\n</td>\n",
       "      <td>236\\n</td>\n",
       "    </tr>\n",
       "    <tr>\n",
       "      <th>5</th>\n",
       "      <td>Bengali\\n</td>\n",
       "      <td>234\\n</td>\n",
       "    </tr>\n",
       "    <tr>\n",
       "      <th>6</th>\n",
       "      <td>Russian\\n</td>\n",
       "      <td>147\\n</td>\n",
       "    </tr>\n",
       "    <tr>\n",
       "      <th>7</th>\n",
       "      <td>Japanese\\n</td>\n",
       "      <td>123\\n</td>\n",
       "    </tr>\n",
       "    <tr>\n",
       "      <th>8</th>\n",
       "      <td>Yue Chinese(incl. Cantonese)\\n</td>\n",
       "      <td>86.1\\n</td>\n",
       "    </tr>\n",
       "    <tr>\n",
       "      <th>9</th>\n",
       "      <td>Vietnamese\\n</td>\n",
       "      <td>85.0\\n</td>\n",
       "    </tr>\n",
       "  </tbody>\n",
       "</table>\n",
       "</div>"
      ],
      "text/plain": [
       "                                            language native speakers\n",
       "0  Mandarin Chinese(incl. Standard Chinese, but e...           939\\n\n",
       "1                                          Spanish\\n           485\\n\n",
       "2                                          English\\n           380\\n\n",
       "3           Hindi(excl. Urdu, and other languages)\\n           345\\n\n",
       "4                                       Portuguese\\n           236\\n\n",
       "5                                          Bengali\\n           234\\n\n",
       "6                                          Russian\\n           147\\n\n",
       "7                                         Japanese\\n           123\\n\n",
       "8                     Yue Chinese(incl. Cantonese)\\n          86.1\\n\n",
       "9                                       Vietnamese\\n          85.0\\n"
      ]
     },
     "execution_count": 20,
     "metadata": {},
     "output_type": "execute_result"
    }
   ],
   "source": [
    "top10 = pd.DataFrame({\"language\":language,\n",
    "                       \"native speakers\":speakers})\n",
    "top10"
   ]
  },
  {
   "cell_type": "markdown",
   "id": "0d6996c1",
   "metadata": {},
   "source": [
    "## Retrieve an arbitrary Wikipedia page of \"Python\" and create a list of links on that page: url ='https://en.wikipedia.org/wiki/Python"
   ]
  },
  {
   "cell_type": "code",
   "execution_count": 21,
   "id": "0a1b21cf",
   "metadata": {},
   "outputs": [],
   "source": [
    "# 2. find url and store it in a variable\n",
    "url = \"https://en.wikipedia.org/wiki/Python\""
   ]
  },
  {
   "cell_type": "code",
   "execution_count": 22,
   "id": "25043d8f",
   "metadata": {},
   "outputs": [
    {
     "data": {
      "text/plain": [
       "200"
      ]
     },
     "execution_count": 22,
     "metadata": {},
     "output_type": "execute_result"
    }
   ],
   "source": [
    "# 3. download html with a get request\n",
    "response = requests.get(url)\n",
    "response.status_code # 200 status code means OK!"
   ]
  },
  {
   "cell_type": "code",
   "execution_count": 23,
   "id": "7b9c6180",
   "metadata": {},
   "outputs": [],
   "source": [
    "# 4.1. parse html (create the 'soup')\n",
    "soup = BeautifulSoup(response.content, \"html.parser\")"
   ]
  },
  {
   "cell_type": "code",
   "execution_count": 24,
   "id": "ea3dbc72",
   "metadata": {},
   "outputs": [],
   "source": [
    "#mw-content-text > div.mw-parser-output > ul:nth-child(7) > li:nth-child(1) > a"
   ]
  },
  {
   "cell_type": "code",
   "execution_count": 25,
   "id": "3482106b",
   "metadata": {},
   "outputs": [
    {
     "data": {
      "text/plain": [
       "[<a href=\"/wiki/Pythonidae\" title=\"Pythonidae\">Pythonidae</a>,\n",
       " <a href=\"/wiki/Python_(genus)\" title=\"Python (genus)\"><i>Python</i> (genus)</a>,\n",
       " <a href=\"/wiki/Python_(mythology)\" title=\"Python (mythology)\">Python (mythology)</a>,\n",
       " <a href=\"/wiki/Python_(programming_language)\" title=\"Python (programming language)\">Python (programming language)</a>,\n",
       " <a href=\"/wiki/CMU_Common_Lisp\" title=\"CMU Common Lisp\">CMU Common Lisp</a>,\n",
       " <a href=\"/wiki/PERQ#PERQ_3\" title=\"PERQ\">PERQ 3</a>,\n",
       " <a href=\"/wiki/Python_of_Aenus\" title=\"Python of Aenus\">Python of Aenus</a>,\n",
       " <a href=\"/wiki/Python_(painter)\" title=\"Python (painter)\">Python (painter)</a>,\n",
       " <a href=\"/wiki/Python_of_Byzantium\" title=\"Python of Byzantium\">Python of Byzantium</a>,\n",
       " <a href=\"/wiki/Python_of_Catana\" title=\"Python of Catana\">Python of Catana</a>,\n",
       " <a href=\"/wiki/Python_Anghelo\" title=\"Python Anghelo\">Python Anghelo</a>,\n",
       " <a href=\"/wiki/Python_(Efteling)\" title=\"Python (Efteling)\">Python (Efteling)</a>,\n",
       " <a href=\"/wiki/Python_(Busch_Gardens_Tampa_Bay)\" title=\"Python (Busch Gardens Tampa Bay)\">Python (Busch Gardens Tampa Bay)</a>,\n",
       " <a href=\"/wiki/Python_(Coney_Island,_Cincinnati,_Ohio)\" title=\"Python (Coney Island, Cincinnati, Ohio)\">Python (Coney Island, Cincinnati, Ohio)</a>,\n",
       " <a href=\"/wiki/Python_(automobile_maker)\" title=\"Python (automobile maker)\">Python (automobile maker)</a>,\n",
       " <a href=\"/wiki/Python_(Ford_prototype)\" title=\"Python (Ford prototype)\">Python (Ford prototype)</a>,\n",
       " <a href=\"/wiki/Python_(missile)\" title=\"Python (missile)\">Python (missile)</a>,\n",
       " <a href=\"/wiki/Python_(nuclear_primary)\" title=\"Python (nuclear primary)\">Python (nuclear primary)</a>,\n",
       " <a href=\"/wiki/Colt_Python\" title=\"Colt Python\">Colt Python</a>,\n",
       " <a href=\"/wiki/Python_(codename)\" title=\"Python (codename)\">Python (codename)</a>,\n",
       " <a href=\"/wiki/Python_(film)\" title=\"Python (film)\"><i>Python</i> (film)</a>,\n",
       " <a href=\"/wiki/Monty_Python\" title=\"Monty Python\">Monty Python</a>,\n",
       " <a href=\"/wiki/Python_(Monty)_Pictures\" title=\"Python (Monty) Pictures\">Python (Monty) Pictures</a>,\n",
       " <a href=\"/wiki/Timon_of_Phlius\" title=\"Timon of Phlius\">Timon of Phlius</a>,\n",
       " <a href=\"/wiki/Pyton\" title=\"Pyton\">Pyton</a>,\n",
       " <a href=\"/wiki/Pithon\" title=\"Pithon\">Pithon</a>]"
      ]
     },
     "execution_count": 25,
     "metadata": {},
     "output_type": "execute_result"
    }
   ],
   "source": [
    "# 5. retrieve/extract the desired info (here, you'll paste the \"Selector\" you copied before to get the element that belongs to the top movie)\n",
    "soup.select(\"#mw-content-text > div.mw-parser-output > ul a\")"
   ]
  },
  {
   "cell_type": "code",
   "execution_count": 26,
   "id": "e807189a",
   "metadata": {},
   "outputs": [],
   "source": [
    "#mw-content-text > div.mw-parser-output > ul a"
   ]
  },
  {
   "cell_type": "code",
   "execution_count": 27,
   "id": "d918b352",
   "metadata": {},
   "outputs": [],
   "source": [
    "pythonlinks = []\n",
    "\n",
    "for pr in soup.select(\"#mw-content-text > div.mw-parser-output > ul a\"):\n",
    "    link = pr.get(\"href\")\n",
    "    url = \"https://en.wikipedia.org\" + link\n",
    "    pythonlinks.append(url)\n"
   ]
  },
  {
   "cell_type": "code",
   "execution_count": 28,
   "id": "d9d02c93",
   "metadata": {},
   "outputs": [
    {
     "data": {
      "text/plain": [
       "['https://en.wikipedia.org/wiki/Pythonidae',\n",
       " 'https://en.wikipedia.org/wiki/Python_(genus)',\n",
       " 'https://en.wikipedia.org/wiki/Python_(mythology)',\n",
       " 'https://en.wikipedia.org/wiki/Python_(programming_language)',\n",
       " 'https://en.wikipedia.org/wiki/CMU_Common_Lisp',\n",
       " 'https://en.wikipedia.org/wiki/PERQ#PERQ_3',\n",
       " 'https://en.wikipedia.org/wiki/Python_of_Aenus',\n",
       " 'https://en.wikipedia.org/wiki/Python_(painter)',\n",
       " 'https://en.wikipedia.org/wiki/Python_of_Byzantium',\n",
       " 'https://en.wikipedia.org/wiki/Python_of_Catana',\n",
       " 'https://en.wikipedia.org/wiki/Python_Anghelo',\n",
       " 'https://en.wikipedia.org/wiki/Python_(Efteling)',\n",
       " 'https://en.wikipedia.org/wiki/Python_(Busch_Gardens_Tampa_Bay)',\n",
       " 'https://en.wikipedia.org/wiki/Python_(Coney_Island,_Cincinnati,_Ohio)',\n",
       " 'https://en.wikipedia.org/wiki/Python_(automobile_maker)',\n",
       " 'https://en.wikipedia.org/wiki/Python_(Ford_prototype)',\n",
       " 'https://en.wikipedia.org/wiki/Python_(missile)',\n",
       " 'https://en.wikipedia.org/wiki/Python_(nuclear_primary)',\n",
       " 'https://en.wikipedia.org/wiki/Colt_Python',\n",
       " 'https://en.wikipedia.org/wiki/Python_(codename)',\n",
       " 'https://en.wikipedia.org/wiki/Python_(film)',\n",
       " 'https://en.wikipedia.org/wiki/Monty_Python',\n",
       " 'https://en.wikipedia.org/wiki/Python_(Monty)_Pictures',\n",
       " 'https://en.wikipedia.org/wiki/Timon_of_Phlius',\n",
       " 'https://en.wikipedia.org/wiki/Pyton',\n",
       " 'https://en.wikipedia.org/wiki/Pithon']"
      ]
     },
     "execution_count": 28,
     "metadata": {},
     "output_type": "execute_result"
    }
   ],
   "source": [
    "pythonlinks"
   ]
  },
  {
   "cell_type": "code",
   "execution_count": null,
   "id": "29ed82f4",
   "metadata": {},
   "outputs": [],
   "source": []
  }
 ],
 "metadata": {
  "kernelspec": {
   "display_name": "Python 3 (ipykernel)",
   "language": "python",
   "name": "python3"
  },
  "language_info": {
   "codemirror_mode": {
    "name": "ipython",
    "version": 3
   },
   "file_extension": ".py",
   "mimetype": "text/x-python",
   "name": "python",
   "nbconvert_exporter": "python",
   "pygments_lexer": "ipython3",
   "version": "3.9.13"
  }
 },
 "nbformat": 4,
 "nbformat_minor": 5
}
